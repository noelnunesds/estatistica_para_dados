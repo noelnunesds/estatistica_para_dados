{
 "cells": [
  {
   "cell_type": "code",
   "execution_count": 5,
   "metadata": {},
   "outputs": [],
   "source": [
    "import pandas as pd\n",
    "import random"
   ]
  },
  {
   "cell_type": "code",
   "execution_count": 6,
   "metadata": {},
   "outputs": [],
   "source": [
    "df = pd.read_csv('census_data.csv')"
   ]
  },
  {
   "cell_type": "markdown",
   "metadata": {},
   "source": [
    "# Amostragem Aleatória Simples"
   ]
  },
  {
   "cell_type": "markdown",
   "metadata": {},
   "source": [
    "Puxa uma quantidade de amostras aleatoriamente de uma base de dados"
   ]
  },
  {
   "cell_type": "code",
   "execution_count": 7,
   "metadata": {},
   "outputs": [],
   "source": [
    "df_amostra_aleatoria_simples = df.sample(n = 100)"
   ]
  },
  {
   "cell_type": "code",
   "execution_count": 9,
   "metadata": {},
   "outputs": [
    {
     "data": {
      "text/html": [
       "<div>\n",
       "<style scoped>\n",
       "    .dataframe tbody tr th:only-of-type {\n",
       "        vertical-align: middle;\n",
       "    }\n",
       "\n",
       "    .dataframe tbody tr th {\n",
       "        vertical-align: top;\n",
       "    }\n",
       "\n",
       "    .dataframe thead th {\n",
       "        text-align: right;\n",
       "    }\n",
       "</style>\n",
       "<table border=\"1\" class=\"dataframe\">\n",
       "  <thead>\n",
       "    <tr style=\"text-align: right;\">\n",
       "      <th></th>\n",
       "      <th>Unnamed: 0</th>\n",
       "      <th>first_name</th>\n",
       "      <th>last_name</th>\n",
       "      <th>age</th>\n",
       "      <th>gender</th>\n",
       "      <th>income</th>\n",
       "      <th>state</th>\n",
       "      <th>occupation</th>\n",
       "      <th>email</th>\n",
       "      <th>phone_number</th>\n",
       "      <th>address</th>\n",
       "      <th>city</th>\n",
       "      <th>zipcode</th>\n",
       "    </tr>\n",
       "  </thead>\n",
       "  <tbody>\n",
       "    <tr>\n",
       "      <th>11926</th>\n",
       "      <td>11926</td>\n",
       "      <td>Bryan</td>\n",
       "      <td>Miller</td>\n",
       "      <td>99</td>\n",
       "      <td>Female</td>\n",
       "      <td>143557</td>\n",
       "      <td>OK</td>\n",
       "      <td>Mudlogger</td>\n",
       "      <td>susanbanks@example.com</td>\n",
       "      <td>001-449-760-6633x395</td>\n",
       "      <td>264 John Rapids Apt. 185\\nEast Amberberg, MP 2...</td>\n",
       "      <td>Jeffersonbury</td>\n",
       "      <td>87640</td>\n",
       "    </tr>\n",
       "    <tr>\n",
       "      <th>7896</th>\n",
       "      <td>7896</td>\n",
       "      <td>Natasha</td>\n",
       "      <td>Vance</td>\n",
       "      <td>88</td>\n",
       "      <td>Non-binary</td>\n",
       "      <td>181439</td>\n",
       "      <td>SC</td>\n",
       "      <td>Forest/woodland manager</td>\n",
       "      <td>kellyrobin@example.com</td>\n",
       "      <td>+1-990-617-1910x2769</td>\n",
       "      <td>31640 King Mall Apt. 974\\nWest Brittanyport, N...</td>\n",
       "      <td>Benjaminfort</td>\n",
       "      <td>48127</td>\n",
       "    </tr>\n",
       "  </tbody>\n",
       "</table>\n",
       "</div>"
      ],
      "text/plain": [
       "       Unnamed: 0 first_name last_name  age      gender  income state  \\\n",
       "11926       11926      Bryan    Miller   99      Female  143557    OK   \n",
       "7896         7896    Natasha     Vance   88  Non-binary  181439    SC   \n",
       "\n",
       "                    occupation                   email          phone_number  \\\n",
       "11926                Mudlogger  susanbanks@example.com  001-449-760-6633x395   \n",
       "7896   Forest/woodland manager  kellyrobin@example.com  +1-990-617-1910x2769   \n",
       "\n",
       "                                                 address           city  \\\n",
       "11926  264 John Rapids Apt. 185\\nEast Amberberg, MP 2...  Jeffersonbury   \n",
       "7896   31640 King Mall Apt. 974\\nWest Brittanyport, N...   Benjaminfort   \n",
       "\n",
       "       zipcode  \n",
       "11926    87640  \n",
       "7896     48127  "
      ]
     },
     "execution_count": 9,
     "metadata": {},
     "output_type": "execute_result"
    }
   ],
   "source": [
    "df_amostra_aleatoria_simples.head(2)"
   ]
  }
 ],
 "metadata": {
  "kernelspec": {
   "display_name": "env_estatistica",
   "language": "python",
   "name": "python3"
  },
  "language_info": {
   "codemirror_mode": {
    "name": "ipython",
    "version": 3
   },
   "file_extension": ".py",
   "mimetype": "text/x-python",
   "name": "python",
   "nbconvert_exporter": "python",
   "pygments_lexer": "ipython3",
   "version": "3.8.10"
  }
 },
 "nbformat": 4,
 "nbformat_minor": 2
}
